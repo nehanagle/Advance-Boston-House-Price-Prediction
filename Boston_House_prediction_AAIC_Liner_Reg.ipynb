{
  "nbformat": 4,
  "nbformat_minor": 0,
  "metadata": {
    "colab": {
      "name": "Boston-House prediction-AAIC Liner Reg.ipynb",
      "provenance": [],
      "collapsed_sections": [],
      "include_colab_link": true
    },
    "kernelspec": {
      "display_name": "Python 3",
      "language": "python",
      "name": "python3"
    },
    "language_info": {
      "codemirror_mode": {
        "name": "ipython",
        "version": 3
      },
      "file_extension": ".py",
      "mimetype": "text/x-python",
      "name": "python",
      "nbconvert_exporter": "python",
      "pygments_lexer": "ipython3",
      "version": "3.8.3"
    },
    "accelerator": "TPU"
  },
  "cells": [
    {
      "cell_type": "markdown",
      "metadata": {
        "id": "view-in-github",
        "colab_type": "text"
      },
      "source": [
        "<a href=\"https://colab.research.google.com/github/nehanagle/Advance-Boston-House-Price-Prediction/blob/main/Boston_House_prediction_AAIC_Liner_Reg.ipynb\" target=\"_parent\"><img src=\"https://colab.research.google.com/assets/colab-badge.svg\" alt=\"Open In Colab\"/></a>"
      ]
    },
    {
      "cell_type": "markdown",
      "metadata": {
        "id": "zL-B0Q3ttnZr"
      },
      "source": [
        "#**Boston House price prediction**\n",
        "The problem that we are going to solve here is that given a set of features that describe a house in Boston, our machine learning model must predict the house price. To train our machine learning model with boston housing data, we will be using scikit-learn’s boston dataset.\n",
        "\n",
        "In this dataset, each row describes a boston town or suburb. There are 506 rows and 13 attributes (features) with a target column (price). https://archive.ics.uci.edu/ml/machine-learning-databases/housing/housing.names"
      ]
    },
    {
      "cell_type": "code",
      "metadata": {
        "id": "-MTYGl20x0m4"
      },
      "source": [
        "# Importing the Boston Housing dataset\n",
        "from sklearn.datasets import load_boston\n",
        "boston = load_boston()"
      ],
      "execution_count": 12,
      "outputs": []
    },
    {
      "cell_type": "code",
      "metadata": {
        "id": "DVQo36jvvJBg"
      },
      "source": [
        "# Initializing the dataframe\n",
        "import pandas as pd\n",
        "data = pd.DataFrame(boston.data)"
      ],
      "execution_count": 13,
      "outputs": []
    },
    {
      "cell_type": "code",
      "metadata": {
        "colab": {
          "base_uri": "https://localhost:8080/"
        },
        "id": "JZ_P3tLgM_s6",
        "outputId": "79fe5ed6-2d4d-4a84-dab8-0fbc1ffd50bf"
      },
      "source": [
        "print(data.shape)\n"
      ],
      "execution_count": 14,
      "outputs": [
        {
          "output_type": "stream",
          "text": [
            "(506, 13)\n"
          ],
          "name": "stdout"
        }
      ]
    },
    {
      "cell_type": "code",
      "metadata": {
        "colab": {
          "base_uri": "https://localhost:8080/",
          "height": 204
        },
        "id": "LsDu9UsiM_tC",
        "scrolled": true,
        "outputId": "5189896e-2e49-4213-8250-e501339e675d"
      },
      "source": [
        "#Adding the feature names to the dataframe\n",
        "data.columns = boston.feature_names\n",
        "data.head()"
      ],
      "execution_count": 15,
      "outputs": [
        {
          "output_type": "execute_result",
          "data": {
            "text/html": [
              "<div>\n",
              "<style scoped>\n",
              "    .dataframe tbody tr th:only-of-type {\n",
              "        vertical-align: middle;\n",
              "    }\n",
              "\n",
              "    .dataframe tbody tr th {\n",
              "        vertical-align: top;\n",
              "    }\n",
              "\n",
              "    .dataframe thead th {\n",
              "        text-align: right;\n",
              "    }\n",
              "</style>\n",
              "<table border=\"1\" class=\"dataframe\">\n",
              "  <thead>\n",
              "    <tr style=\"text-align: right;\">\n",
              "      <th></th>\n",
              "      <th>CRIM</th>\n",
              "      <th>ZN</th>\n",
              "      <th>INDUS</th>\n",
              "      <th>CHAS</th>\n",
              "      <th>NOX</th>\n",
              "      <th>RM</th>\n",
              "      <th>AGE</th>\n",
              "      <th>DIS</th>\n",
              "      <th>RAD</th>\n",
              "      <th>TAX</th>\n",
              "      <th>PTRATIO</th>\n",
              "      <th>B</th>\n",
              "      <th>LSTAT</th>\n",
              "    </tr>\n",
              "  </thead>\n",
              "  <tbody>\n",
              "    <tr>\n",
              "      <th>0</th>\n",
              "      <td>0.00632</td>\n",
              "      <td>18.0</td>\n",
              "      <td>2.31</td>\n",
              "      <td>0.0</td>\n",
              "      <td>0.538</td>\n",
              "      <td>6.575</td>\n",
              "      <td>65.2</td>\n",
              "      <td>4.0900</td>\n",
              "      <td>1.0</td>\n",
              "      <td>296.0</td>\n",
              "      <td>15.3</td>\n",
              "      <td>396.90</td>\n",
              "      <td>4.98</td>\n",
              "    </tr>\n",
              "    <tr>\n",
              "      <th>1</th>\n",
              "      <td>0.02731</td>\n",
              "      <td>0.0</td>\n",
              "      <td>7.07</td>\n",
              "      <td>0.0</td>\n",
              "      <td>0.469</td>\n",
              "      <td>6.421</td>\n",
              "      <td>78.9</td>\n",
              "      <td>4.9671</td>\n",
              "      <td>2.0</td>\n",
              "      <td>242.0</td>\n",
              "      <td>17.8</td>\n",
              "      <td>396.90</td>\n",
              "      <td>9.14</td>\n",
              "    </tr>\n",
              "    <tr>\n",
              "      <th>2</th>\n",
              "      <td>0.02729</td>\n",
              "      <td>0.0</td>\n",
              "      <td>7.07</td>\n",
              "      <td>0.0</td>\n",
              "      <td>0.469</td>\n",
              "      <td>7.185</td>\n",
              "      <td>61.1</td>\n",
              "      <td>4.9671</td>\n",
              "      <td>2.0</td>\n",
              "      <td>242.0</td>\n",
              "      <td>17.8</td>\n",
              "      <td>392.83</td>\n",
              "      <td>4.03</td>\n",
              "    </tr>\n",
              "    <tr>\n",
              "      <th>3</th>\n",
              "      <td>0.03237</td>\n",
              "      <td>0.0</td>\n",
              "      <td>2.18</td>\n",
              "      <td>0.0</td>\n",
              "      <td>0.458</td>\n",
              "      <td>6.998</td>\n",
              "      <td>45.8</td>\n",
              "      <td>6.0622</td>\n",
              "      <td>3.0</td>\n",
              "      <td>222.0</td>\n",
              "      <td>18.7</td>\n",
              "      <td>394.63</td>\n",
              "      <td>2.94</td>\n",
              "    </tr>\n",
              "    <tr>\n",
              "      <th>4</th>\n",
              "      <td>0.06905</td>\n",
              "      <td>0.0</td>\n",
              "      <td>2.18</td>\n",
              "      <td>0.0</td>\n",
              "      <td>0.458</td>\n",
              "      <td>7.147</td>\n",
              "      <td>54.2</td>\n",
              "      <td>6.0622</td>\n",
              "      <td>3.0</td>\n",
              "      <td>222.0</td>\n",
              "      <td>18.7</td>\n",
              "      <td>396.90</td>\n",
              "      <td>5.33</td>\n",
              "    </tr>\n",
              "  </tbody>\n",
              "</table>\n",
              "</div>"
            ],
            "text/plain": [
              "      CRIM    ZN  INDUS  CHAS    NOX  ...  RAD    TAX  PTRATIO       B  LSTAT\n",
              "0  0.00632  18.0   2.31   0.0  0.538  ...  1.0  296.0     15.3  396.90   4.98\n",
              "1  0.02731   0.0   7.07   0.0  0.469  ...  2.0  242.0     17.8  396.90   9.14\n",
              "2  0.02729   0.0   7.07   0.0  0.469  ...  2.0  242.0     17.8  392.83   4.03\n",
              "3  0.03237   0.0   2.18   0.0  0.458  ...  3.0  222.0     18.7  394.63   2.94\n",
              "4  0.06905   0.0   2.18   0.0  0.458  ...  3.0  222.0     18.7  396.90   5.33\n",
              "\n",
              "[5 rows x 13 columns]"
            ]
          },
          "metadata": {
            "tags": []
          },
          "execution_count": 15
        }
      ]
    },
    {
      "cell_type": "markdown",
      "metadata": {
        "id": "eXIhT-9ouE4y"
      },
      "source": [
        "**Features**\n",
        "\n",
        "- CRIM per capita crime rate by town\n",
        "- ZN proportion of residential land zoned for lots over 25,000 sq.ft.\n",
        "- INDUS proportion of non-retail business acres per town\n",
        "- CHAS Charles River dummy variable (= 1 if tract bounds river; 0 otherwise)\n",
        "- NOX nitric oxides concentration (parts per 10 million)\n",
        "- RM average number of rooms per dwelling\n",
        "- AGE proportion of owner-occupied units built prior to 1940\n",
        "- DIS weighted distances to five Boston employment centres\n",
        "- RAD index of accessibility to radial highways\n",
        "- TAX full-value property-tax rate per 10,000usd\n",
        "- PTRATIO pupil-teacher ratio by town\n",
        "- B 1000(Bk - 0.63)^2 where Bk is the proportion of blacks by town\n",
        "- LSTAT % lower status of the population\n",
        "\n",
        "Each record in the database describes a Boston suburb or town."
      ]
    },
    {
      "cell_type": "code",
      "metadata": {
        "id": "M-KlpJQTwGXw"
      },
      "source": [
        "#Adding target variable to dataframe\n",
        "data['PRICE'] = boston.target \n",
        "# Median value of owner-occupied homes in $1000s"
      ],
      "execution_count": 16,
      "outputs": []
    },
    {
      "cell_type": "code",
      "metadata": {
        "colab": {
          "base_uri": "https://localhost:8080/"
        },
        "id": "59JujVmKx0pA",
        "outputId": "d9447908-3c31-4350-9a0d-9f9d7cd5981f"
      },
      "source": [
        "data.info()"
      ],
      "execution_count": 17,
      "outputs": [
        {
          "output_type": "stream",
          "text": [
            "<class 'pandas.core.frame.DataFrame'>\n",
            "RangeIndex: 506 entries, 0 to 505\n",
            "Data columns (total 14 columns):\n",
            " #   Column   Non-Null Count  Dtype  \n",
            "---  ------   --------------  -----  \n",
            " 0   CRIM     506 non-null    float64\n",
            " 1   ZN       506 non-null    float64\n",
            " 2   INDUS    506 non-null    float64\n",
            " 3   CHAS     506 non-null    float64\n",
            " 4   NOX      506 non-null    float64\n",
            " 5   RM       506 non-null    float64\n",
            " 6   AGE      506 non-null    float64\n",
            " 7   DIS      506 non-null    float64\n",
            " 8   RAD      506 non-null    float64\n",
            " 9   TAX      506 non-null    float64\n",
            " 10  PTRATIO  506 non-null    float64\n",
            " 11  B        506 non-null    float64\n",
            " 12  LSTAT    506 non-null    float64\n",
            " 13  PRICE    506 non-null    float64\n",
            "dtypes: float64(14)\n",
            "memory usage: 55.5 KB\n"
          ],
          "name": "stdout"
        }
      ]
    },
    {
      "cell_type": "code",
      "metadata": {
        "colab": {
          "base_uri": "https://localhost:8080/"
        },
        "id": "N6s4NbL1w4ba",
        "outputId": "eda096c9-50e3-469c-c2fe-39a385c6c43a"
      },
      "source": [
        "# Check for missing values\n",
        "data.isnull().sum()"
      ],
      "execution_count": 18,
      "outputs": [
        {
          "output_type": "execute_result",
          "data": {
            "text/plain": [
              "CRIM       0\n",
              "ZN         0\n",
              "INDUS      0\n",
              "CHAS       0\n",
              "NOX        0\n",
              "RM         0\n",
              "AGE        0\n",
              "DIS        0\n",
              "RAD        0\n",
              "TAX        0\n",
              "PTRATIO    0\n",
              "B          0\n",
              "LSTAT      0\n",
              "PRICE      0\n",
              "dtype: int64"
            ]
          },
          "metadata": {
            "tags": []
          },
          "execution_count": 18
        }
      ]
    },
    {
      "cell_type": "markdown",
      "metadata": {
        "id": "7wQ5C1L5vbxg"
      },
      "source": [
        "#### From Above we can see there's no missing value hence we can move ahead for Data Exploration"
      ]
    },
    {
      "cell_type": "code",
      "metadata": {
        "colab": {
          "base_uri": "https://localhost:8080/",
          "height": 1000
        },
        "id": "vv90VFMZx0pE",
        "outputId": "3bfa5240-fd3a-41d3-b315-314e22a65bca"
      },
      "source": [
        "import matplotlib.pyplot as plt\n",
        "\n",
        "fig, ax = plt.subplots(8, figsize=(10, 40))\n",
        "ax[0].scatter(x = data['RM'], y = data['PRICE'])\n",
        "ax[0].set_xlabel(\"RM\")\n",
        "ax[0].set_ylabel(\"House Price\")\n",
        "print()\n",
        "print()\n",
        "ax[1].scatter(x = data['LSTAT'], y = data['PRICE'])\n",
        "ax[1].set_xlabel(\"LSTAT\")\n",
        "ax[1].set_ylabel(\"House Price\")\n",
        "\n",
        "ax[2].scatter(x = data['PTRATIO'], y = data['PRICE'])\n",
        "ax[2].set_xlabel(\"PTRATIO\")\n",
        "ax[2].set_ylabel(\"House Price\")\n",
        "\n",
        "ax[3].scatter(x = data['CRIM'], y = data['PRICE'])\n",
        "ax[3].set_xlabel(\"CRIM\")\n",
        "ax[3].set_ylabel(\"House Price\")\n",
        "\n",
        "ax[4].scatter(x = data['ZN'], y = data['PRICE'])\n",
        "ax[4].set_xlabel(\"ZN\")\n",
        "ax[4].set_ylabel(\"House Price\")\n",
        "\n",
        "ax[5].scatter(x = data['AGE'], y = data['PRICE'])\n",
        "ax[5].set_xlabel(\"AGE\")\n",
        "ax[5].set_ylabel(\"House Price\")\n",
        "\n",
        "ax[6].scatter(x = data['CHAS'], y = data['PRICE'])\n",
        "ax[6].set_xlabel(\"CHAS\")\n",
        "ax[6].set_ylabel(\"House Price\")\n",
        "\n",
        "ax[7].scatter(x = data['RAD'], y = data['PRICE'])\n",
        "ax[7].set_xlabel(\"RAD\")\n",
        "ax[7].set_ylabel(\"House Price\")\n"
      ],
      "execution_count": 19,
      "outputs": [
        {
          "output_type": "stream",
          "text": [
            "\n",
            "\n"
          ],
          "name": "stdout"
        },
        {
          "output_type": "execute_result",
          "data": {
            "text/plain": [
              "Text(0, 0.5, 'House Price')"
            ]
          },
          "metadata": {
            "tags": []
          },
          "execution_count": 19
        },
        {
          "output_type": "display_data",
          "data": {
            "image/png": "[encoded data removed]",
            "text/plain": [
              "<Figure size 720x2880 with 8 Axes>"
            ]
          },
          "metadata": {
            "tags": [],
            "needs_background": "light"
          }
        }
      ]
    },
    {
      "cell_type": "markdown",
      "metadata": {
        "id": "gm3-UizZtNGu"
      },
      "source": [
        "From above plots we can see relation of every independent feature with dependent.\n"
      ]
    },
    {
      "cell_type": "code",
      "metadata": {
        "colab": {
          "base_uri": "https://localhost:8080/"
        },
        "id": "Z4GRvypax0pJ",
        "outputId": "e8677543-c0d0-4d31-fabd-3026619044b8"
      },
      "source": [
        "# check for null values\n",
        "data.isnull().sum()"
      ],
      "execution_count": 20,
      "outputs": [
        {
          "output_type": "execute_result",
          "data": {
            "text/plain": [
              "CRIM       0\n",
              "ZN         0\n",
              "INDUS      0\n",
              "CHAS       0\n",
              "NOX        0\n",
              "RM         0\n",
              "AGE        0\n",
              "DIS        0\n",
              "RAD        0\n",
              "TAX        0\n",
              "PTRATIO    0\n",
              "B          0\n",
              "LSTAT      0\n",
              "PRICE      0\n",
              "dtype: int64"
            ]
          },
          "metadata": {
            "tags": []
          },
          "execution_count": 20
        }
      ]
    },
    {
      "cell_type": "markdown",
      "metadata": {
        "id": "LQUVL9GI914Y"
      },
      "source": [
        "# Feature Selection"
      ]
    },
    {
      "cell_type": "code",
      "metadata": {
        "colab": {
          "base_uri": "https://localhost:8080/"
        },
        "id": "qQYmpmF4-T_9",
        "outputId": "76f5fe77-a88f-46b0-cca4-95294d24526b"
      },
      "source": [
        "# Finding out the correlation between the features\n",
        "corr = data.corr()\n",
        "corr.shape"
      ],
      "execution_count": 21,
      "outputs": [
        {
          "output_type": "execute_result",
          "data": {
            "text/plain": [
              "(14, 14)"
            ]
          },
          "metadata": {
            "tags": []
          },
          "execution_count": 21
        }
      ]
    },
    {
      "cell_type": "code",
      "metadata": {
        "colab": {
          "base_uri": "https://localhost:8080/",
          "height": 1000
        },
        "id": "TzTF5-i3-kJ2",
        "outputId": "27dfb65e-6364-481b-93b5-c60c1a6d9d48"
      },
      "source": [
        "# Plotting the heatmap of correlation between features\n",
        "import seaborn as sns\n",
        "plt.figure(figsize=(20,20))\n",
        "sns.heatmap(corr, cbar=True, square= True, fmt='.1f', annot=True, annot_kws={'size':15}, cmap='Greens')"
      ],
      "execution_count": 22,
      "outputs": [
        {
          "output_type": "execute_result",
          "data": {
            "text/plain": [
              "<matplotlib.axes._subplots.AxesSubplot at 0x7fd6b8c84c50>"
            ]
          },
          "metadata": {
            "tags": []
          },
          "execution_count": 22
        },
        {
          "output_type": "display_data",
          "data": {
            "image/png": "[encoded data removed]",
            "text/plain": [
              "<Figure size 1440x1440 with 2 Axes>"
            ]
          },
          "metadata": {
            "tags": [],
            "needs_background": "light"
          }
        }
      ]
    },
    {
      "cell_type": "code",
      "metadata": {
        "id": "4Sls6x9mx0pT"
      },
      "source": [
        "prices = data['PRICE']\n",
        "features = data.drop('PRICE', axis = 1)"
      ],
      "execution_count": 23,
      "outputs": []
    },
    {
      "cell_type": "code",
      "metadata": {
        "colab": {
          "base_uri": "https://localhost:8080/"
        },
        "id": "fJ_dvl-b-S6O",
        "outputId": "49346665-9de3-46e4-ac9d-587e74b0140f"
      },
      "source": [
        "from sklearn.ensemble import ExtraTreesRegressor\n",
        "m = ExtraTreesRegressor()\n",
        "m.fit(features,prices)"
      ],
      "execution_count": 24,
      "outputs": [
        {
          "output_type": "execute_result",
          "data": {
            "text/plain": [
              "ExtraTreesRegressor()"
            ]
          },
          "metadata": {
            "tags": []
          },
          "execution_count": 24
        }
      ]
    },
    {
      "cell_type": "code",
      "metadata": {
        "colab": {
          "base_uri": "https://localhost:8080/"
        },
        "id": "H94Dy7OG_rPj",
        "outputId": "9cb05a73-376b-4bcd-d064-0c9b060e06b1"
      },
      "source": [
        "print(m.feature_importances_)"
      ],
      "execution_count": 25,
      "outputs": [
        {
          "output_type": "stream",
          "text": [
            "[0.02932694 0.00505348 0.03370739 0.01550822 0.04263984 0.32478206\n",
            " 0.01947788 0.03264661 0.01497225 0.04908024 0.06464384 0.01759977\n",
            " 0.3505615 ]\n"
          ],
          "name": "stdout"
        }
      ]
    },
    {
      "cell_type": "code",
      "metadata": {
        "colab": {
          "base_uri": "https://localhost:8080/"
        },
        "id": "7ClHURMS_3me",
        "outputId": "bf5d603a-2417-42e7-f1aa-5fab8a01185a"
      },
      "source": [
        "features.columns"
      ],
      "execution_count": 26,
      "outputs": [
        {
          "output_type": "execute_result",
          "data": {
            "text/plain": [
              "Index(['CRIM', 'ZN', 'INDUS', 'CHAS', 'NOX', 'RM', 'AGE', 'DIS', 'RAD', 'TAX',\n",
              "       'PTRATIO', 'B', 'LSTAT'],\n",
              "      dtype='object')"
            ]
          },
          "metadata": {
            "tags": []
          },
          "execution_count": 26
        }
      ]
    },
    {
      "cell_type": "code",
      "metadata": {
        "id": "1UDPwSyYAkmt"
      },
      "source": [
        "#Based on above value , we will train model on important feature to avoid curse of dimentionality.\n",
        "\n",
        "features = features[['RM','PTRATIO','LSTAT']]"
      ],
      "execution_count": 27,
      "outputs": []
    },
    {
      "cell_type": "code",
      "metadata": {
        "id": "yVmd-uP5x0pV"
      },
      "source": [
        "cols = list(features.columns)\n",
        "\n",
        "for col in cols:\n",
        "    # find minimum and maximum of that column\n",
        "    minimum = min(features[col])\n",
        "    maximum = max(features[col])\n",
        "    features[col] = (features[col] - minimum) / (maximum - minimum)\n"
      ],
      "execution_count": 28,
      "outputs": []
    },
    {
      "cell_type": "code",
      "metadata": {
        "colab": {
          "base_uri": "https://localhost:8080/"
        },
        "id": "G3tyl9POx0pW",
        "outputId": "fbab9882-c52e-4996-e5a2-738435c0bd53"
      },
      "source": [
        "from statsmodels.stats.outliers_influence import variance_inflation_factor\n",
        "    \n",
        "# VIF dataframe\n",
        "vif_data = pd.DataFrame()\n",
        "vif_data[\"feature\"] = features.columns\n",
        "  \n",
        "# calculating VIF for each feature\n",
        "vif_data[\"VIF\"] = [variance_inflation_factor(features.values, i)\n",
        "                          for i in range(len(features.columns))]\n",
        "  \n",
        "print(vif_data)"
      ],
      "execution_count": 29,
      "outputs": [
        {
          "output_type": "stream",
          "text": [
            "   feature       VIF\n",
            "0       RM  4.395454\n",
            "1  PTRATIO  7.766704\n",
            "2    LSTAT  3.784779\n"
          ],
          "name": "stdout"
        },
        {
          "output_type": "stream",
          "text": [
            "/usr/local/lib/python3.7/dist-packages/statsmodels/tools/_testing.py:19: FutureWarning: pandas.util.testing is deprecated. Use the functions in the public API at pandas.testing instead.\n",
            "  import pandas.util.testing as tm\n"
          ],
          "name": "stderr"
        }
      ]
    },
    {
      "cell_type": "markdown",
      "metadata": {
        "id": "vzprZnt7BcW9"
      },
      "source": [
        "From above we can see there's no collinearity among above features"
      ]
    },
    {
      "cell_type": "markdown",
      "metadata": {
        "id": "OdcFTcXQBUsX"
      },
      "source": [
        "### Building Model"
      ]
    },
    {
      "cell_type": "code",
      "metadata": {
        "colab": {
          "base_uri": "https://localhost:8080/"
        },
        "id": "4ZRq3TTNBpKj",
        "outputId": "87321625-20d9-465b-dfa5-120dc47df40b"
      },
      "source": [
        "!pip install lazypredict"
      ],
      "execution_count": 30,
      "outputs": [
        {
          "output_type": "stream",
          "text": [
            "Requirement already satisfied: lazypredict in /usr/local/lib/python3.7/dist-packages (0.2.9)\n",
            "Requirement already satisfied: six==1.15.0 in /usr/local/lib/python3.7/dist-packages (from lazypredict) (1.15.0)\n",
            "Requirement already satisfied: joblib==1.0.0 in /usr/local/lib/python3.7/dist-packages (from lazypredict) (1.0.0)\n",
            "Requirement already satisfied: scipy==1.5.4 in /usr/local/lib/python3.7/dist-packages (from lazypredict) (1.5.4)\n",
            "Requirement already satisfied: pandas==1.0.5 in /usr/local/lib/python3.7/dist-packages (from lazypredict) (1.0.5)\n",
            "Requirement already satisfied: click==7.1.2 in /usr/local/lib/python3.7/dist-packages (from lazypredict) (7.1.2)\n",
            "Requirement already satisfied: xgboost==1.1.1 in /usr/local/lib/python3.7/dist-packages (from lazypredict) (1.1.1)\n",
            "Requirement already satisfied: scikit-learn==0.23.1 in /usr/local/lib/python3.7/dist-packages (from lazypredict) (0.23.1)\n",
            "Requirement already satisfied: PyYAML==5.3.1 in /usr/local/lib/python3.7/dist-packages (from lazypredict) (5.3.1)\n",
            "Requirement already satisfied: tqdm==4.56.0 in /usr/local/lib/python3.7/dist-packages (from lazypredict) (4.56.0)\n",
            "Requirement already satisfied: lightgbm==2.3.1 in /usr/local/lib/python3.7/dist-packages (from lazypredict) (2.3.1)\n",
            "Requirement already satisfied: pytest==5.4.3 in /usr/local/lib/python3.7/dist-packages (from lazypredict) (5.4.3)\n",
            "Requirement already satisfied: numpy==1.19.1 in /usr/local/lib/python3.7/dist-packages (from lazypredict) (1.19.1)\n",
            "Requirement already satisfied: pytz>=2017.2 in /usr/local/lib/python3.7/dist-packages (from pandas==1.0.5->lazypredict) (2018.9)\n",
            "Requirement already satisfied: python-dateutil>=2.6.1 in /usr/local/lib/python3.7/dist-packages (from pandas==1.0.5->lazypredict) (2.8.1)\n",
            "Requirement already satisfied: threadpoolctl>=2.0.0 in /usr/local/lib/python3.7/dist-packages (from scikit-learn==0.23.1->lazypredict) (2.1.0)\n",
            "Requirement already satisfied: pluggy<1.0,>=0.12 in /usr/local/lib/python3.7/dist-packages (from pytest==5.4.3->lazypredict) (0.13.1)\n",
            "Requirement already satisfied: py>=1.5.0 in /usr/local/lib/python3.7/dist-packages (from pytest==5.4.3->lazypredict) (1.10.0)\n",
            "Requirement already satisfied: wcwidth in /usr/local/lib/python3.7/dist-packages (from pytest==5.4.3->lazypredict) (0.2.5)\n",
            "Requirement already satisfied: packaging in /usr/local/lib/python3.7/dist-packages (from pytest==5.4.3->lazypredict) (20.9)\n",
            "Requirement already satisfied: importlib-metadata>=0.12; python_version < \"3.8\" in /usr/local/lib/python3.7/dist-packages (from pytest==5.4.3->lazypredict) (3.10.1)\n",
            "Requirement already satisfied: attrs>=17.4.0 in /usr/local/lib/python3.7/dist-packages (from pytest==5.4.3->lazypredict) (20.3.0)\n",
            "Requirement already satisfied: more-itertools>=4.0.0 in /usr/local/lib/python3.7/dist-packages (from pytest==5.4.3->lazypredict) (8.7.0)\n",
            "Requirement already satisfied: pyparsing>=2.0.2 in /usr/local/lib/python3.7/dist-packages (from packaging->pytest==5.4.3->lazypredict) (2.4.7)\n",
            "Requirement already satisfied: typing-extensions>=3.6.4; python_version < \"3.8\" in /usr/local/lib/python3.7/dist-packages (from importlib-metadata>=0.12; python_version < \"3.8\"->pytest==5.4.3->lazypredict) (3.7.4.3)\n",
            "Requirement already satisfied: zipp>=0.5 in /usr/local/lib/python3.7/dist-packages (from importlib-metadata>=0.12; python_version < \"3.8\"->pytest==5.4.3->lazypredict) (3.4.1)\n"
          ],
          "name": "stdout"
        }
      ]
    },
    {
      "cell_type": "code",
      "metadata": {
        "id": "cFLEMpjgCJvV",
        "colab": {
          "base_uri": "https://localhost:8080/"
        },
        "outputId": "99a15819-a61e-41dc-9ec7-5ba45bb324e8"
      },
      "source": [
        "import lazypredict\n",
        "from lazypredict.Supervised import LazyRegressor\n",
        "from sklearn.model_selection import train_test_split"
      ],
      "execution_count": 31,
      "outputs": [
        {
          "output_type": "stream",
          "text": [
            "/usr/local/lib/python3.7/dist-packages/sklearn/utils/deprecation.py:143: FutureWarning: The sklearn.utils.testing module is  deprecated in version 0.22 and will be removed in version 0.24. The corresponding classes / functions should instead be imported from sklearn.utils. Anything that cannot be imported from sklearn.utils is now part of the private API.\n",
            "  warnings.warn(message, FutureWarning)\n"
          ],
          "name": "stderr"
        }
      ]
    },
    {
      "cell_type": "code",
      "metadata": {
        "id": "zXob7L2ux0pa"
      },
      "source": [
        "import pandas as pd \n",
        "import numpy as np \n",
        "from sklearn.preprocessing import StandardScaler \n",
        "from sklearn.linear_model  import Ridge,Lasso,RidgeCV, LassoCV, ElasticNet, ElasticNetCV, LinearRegression\n",
        "from sklearn.model_selection import train_test_split\n",
        "import statsmodels.api as sm \n",
        "import matplotlib.pyplot as plt\n",
        "import seaborn as sns"
      ],
      "execution_count": 32,
      "outputs": []
    },
    {
      "cell_type": "code",
      "metadata": {
        "colab": {
          "base_uri": "https://localhost:8080/"
        },
        "id": "0_cYsNeHx0ph",
        "outputId": "1eacb023-e40a-4e86-f643-8c1d2d568ea2"
      },
      "source": [
        "import sklearn\n",
        "X_train, X_test, Y_train, Y_test = train_test_split(features, prices, test_size = 0.20, random_state = 5)\n",
        "print(X_train.shape)\n",
        "print(X_test.shape)\n",
        "print(Y_train.shape)\n",
        "print(Y_test.shape)\n"
      ],
      "execution_count": 33,
      "outputs": [
        {
          "output_type": "stream",
          "text": [
            "(404, 3)\n",
            "(102, 3)\n",
            "(404,)\n",
            "(102,)\n"
          ],
          "name": "stdout"
        }
      ]
    },
    {
      "cell_type": "code",
      "metadata": {
        "colab": {
          "base_uri": "https://localhost:8080/"
        },
        "id": "9EayuAFiC1TG",
        "outputId": "7651d88e-4827-4e79-9246-c8d557becf1d"
      },
      "source": [
        "reg = LazyRegressor(verbose=0, ignore_warnings=False, custom_metric=None)\n",
        "models, predictions = reg.fit(X_train, X_test, Y_train, Y_test)\n",
        "\n",
        "print(models)"
      ],
      "execution_count": 34,
      "outputs": [
        {
          "output_type": "stream",
          "text": [
            "100%|██████████| 42/42 [00:03<00:00, 13.47it/s]"
          ],
          "name": "stderr"
        },
        {
          "output_type": "stream",
          "text": [
            "                               Adjusted R-Squared  ...  Time Taken\n",
            "Model                                              ...            \n",
            "ExtraTreesRegressor                          0.84  ...        0.18\n",
            "HistGradientBoostingRegressor                0.84  ...        0.19\n",
            "LGBMRegressor                                0.84  ...        0.07\n",
            "RandomForestRegressor                        0.84  ...        0.21\n",
            "GradientBoostingRegressor                    0.83  ...        0.10\n",
            "BaggingRegressor                             0.83  ...        0.04\n",
            "KNeighborsRegressor                          0.82  ...        0.02\n",
            "PoissonRegressor                             0.79  ...        0.02\n",
            "XGBRegressor                                 0.79  ...        0.17\n",
            "AdaBoostRegressor                            0.78  ...        0.06\n",
            "SVR                                          0.77  ...        0.02\n",
            "NuSVR                                        0.76  ...        0.05\n",
            "RANSACRegressor                              0.76  ...        0.03\n",
            "ExtraTreeRegressor                           0.74  ...        0.02\n",
            "MLPRegressor                                 0.72  ...        1.08\n",
            "DecisionTreeRegressor                        0.71  ...        0.01\n",
            "HuberRegressor                               0.70  ...        0.16\n",
            "LinearSVR                                    0.70  ...        0.01\n",
            "ElasticNetCV                                 0.69  ...        0.07\n",
            "RidgeCV                                      0.69  ...        0.01\n",
            "LassoCV                                      0.68  ...        0.08\n",
            "BayesianRidge                                0.68  ...        0.02\n",
            "Ridge                                        0.68  ...        0.01\n",
            "TransformedTargetRegressor                   0.68  ...        0.01\n",
            "LinearRegression                             0.68  ...        0.01\n",
            "LassoLarsIC                                  0.68  ...        0.02\n",
            "LassoLarsCV                                  0.68  ...        0.02\n",
            "OrthogonalMatchingPursuitCV                  0.68  ...        0.03\n",
            "LarsCV                                       0.68  ...        0.06\n",
            "Lars                                         0.68  ...        0.05\n",
            "Lasso                                        0.68  ...        0.01\n",
            "SGDRegressor                                 0.68  ...        0.01\n",
            "ElasticNet                                   0.67  ...        0.01\n",
            "GammaRegressor                               0.65  ...        0.01\n",
            "TweedieRegressor                             0.65  ...        0.01\n",
            "GeneralizedLinearRegressor                   0.65  ...        0.02\n",
            "PassiveAggressiveRegressor                   0.58  ...        0.02\n",
            "OrthogonalMatchingPursuit                    0.49  ...        0.02\n",
            "LassoLars                                   -0.03  ...        0.02\n",
            "DummyRegressor                              -0.03  ...        0.01\n",
            "KernelRidge                                 -6.20  ...        0.05\n",
            "GaussianProcessRegressor                -37522.41  ...        0.04\n",
            "\n",
            "[42 rows x 4 columns]\n"
          ],
          "name": "stdout"
        },
        {
          "output_type": "stream",
          "text": [
            "\n"
          ],
          "name": "stderr"
        }
      ]
    },
    {
      "cell_type": "code",
      "metadata": {
        "colab": {
          "base_uri": "https://localhost:8080/",
          "height": 1000
        },
        "id": "Lc7YGcD8DSrs",
        "outputId": "275af115-403e-4638-d9a9-9304e9e78044"
      },
      "source": [
        "models"
      ],
      "execution_count": 35,
      "outputs": [
        {
          "output_type": "execute_result",
          "data": {
            "text/html": [
              "<div>\n",
              "<style scoped>\n",
              "    .dataframe tbody tr th:only-of-type {\n",
              "        vertical-align: middle;\n",
              "    }\n",
              "\n",
              "    .dataframe tbody tr th {\n",
              "        vertical-align: top;\n",
              "    }\n",
              "\n",
              "    .dataframe thead th {\n",
              "        text-align: right;\n",
              "    }\n",
              "</style>\n",
              "<table border=\"1\" class=\"dataframe\">\n",
              "  <thead>\n",
              "    <tr style=\"text-align: right;\">\n",
              "      <th></th>\n",
              "      <th>Adjusted R-Squared</th>\n",
              "      <th>R-Squared</th>\n",
              "      <th>RMSE</th>\n",
              "      <th>Time Taken</th>\n",
              "    </tr>\n",
              "    <tr>\n",
              "      <th>Model</th>\n",
              "      <th></th>\n",
              "      <th></th>\n",
              "      <th></th>\n",
              "      <th></th>\n",
              "    </tr>\n",
              "  </thead>\n",
              "  <tbody>\n",
              "    <tr>\n",
              "      <th>ExtraTreesRegressor</th>\n",
              "      <td>0.84</td>\n",
              "      <td>0.85</td>\n",
              "      <td>3.47</td>\n",
              "      <td>0.18</td>\n",
              "    </tr>\n",
              "    <tr>\n",
              "      <th>HistGradientBoostingRegressor</th>\n",
              "      <td>0.84</td>\n",
              "      <td>0.84</td>\n",
              "      <td>3.50</td>\n",
              "      <td>0.19</td>\n",
              "    </tr>\n",
              "    <tr>\n",
              "      <th>LGBMRegressor</th>\n",
              "      <td>0.84</td>\n",
              "      <td>0.84</td>\n",
              "      <td>3.51</td>\n",
              "      <td>0.07</td>\n",
              "    </tr>\n",
              "    <tr>\n",
              "      <th>RandomForestRegressor</th>\n",
              "      <td>0.84</td>\n",
              "      <td>0.84</td>\n",
              "      <td>3.53</td>\n",
              "      <td>0.21</td>\n",
              "    </tr>\n",
              "    <tr>\n",
              "      <th>GradientBoostingRegressor</th>\n",
              "      <td>0.83</td>\n",
              "      <td>0.84</td>\n",
              "      <td>3.57</td>\n",
              "      <td>0.10</td>\n",
              "    </tr>\n",
              "    <tr>\n",
              "      <th>BaggingRegressor</th>\n",
              "      <td>0.83</td>\n",
              "      <td>0.84</td>\n",
              "      <td>3.58</td>\n",
              "      <td>0.04</td>\n",
              "    </tr>\n",
              "    <tr>\n",
              "      <th>KNeighborsRegressor</th>\n",
              "      <td>0.82</td>\n",
              "      <td>0.82</td>\n",
              "      <td>3.73</td>\n",
              "      <td>0.02</td>\n",
              "    </tr>\n",
              "    <tr>\n",
              "      <th>PoissonRegressor</th>\n",
              "      <td>0.79</td>\n",
              "      <td>0.80</td>\n",
              "      <td>3.99</td>\n",
              "      <td>0.02</td>\n",
              "    </tr>\n",
              "    <tr>\n",
              "      <th>XGBRegressor</th>\n",
              "      <td>0.79</td>\n",
              "      <td>0.79</td>\n",
              "      <td>4.02</td>\n",
              "      <td>0.17</td>\n",
              "    </tr>\n",
              "    <tr>\n",
              "      <th>AdaBoostRegressor</th>\n",
              "      <td>0.78</td>\n",
              "      <td>0.79</td>\n",
              "      <td>4.10</td>\n",
              "      <td>0.06</td>\n",
              "    </tr>\n",
              "    <tr>\n",
              "      <th>SVR</th>\n",
              "      <td>0.77</td>\n",
              "      <td>0.77</td>\n",
              "      <td>4.22</td>\n",
              "      <td>0.02</td>\n",
              "    </tr>\n",
              "    <tr>\n",
              "      <th>NuSVR</th>\n",
              "      <td>0.76</td>\n",
              "      <td>0.77</td>\n",
              "      <td>4.25</td>\n",
              "      <td>0.05</td>\n",
              "    </tr>\n",
              "    <tr>\n",
              "      <th>RANSACRegressor</th>\n",
              "      <td>0.76</td>\n",
              "      <td>0.76</td>\n",
              "      <td>4.30</td>\n",
              "      <td>0.03</td>\n",
              "    </tr>\n",
              "    <tr>\n",
              "      <th>ExtraTreeRegressor</th>\n",
              "      <td>0.74</td>\n",
              "      <td>0.75</td>\n",
              "      <td>4.46</td>\n",
              "      <td>0.02</td>\n",
              "    </tr>\n",
              "    <tr>\n",
              "      <th>MLPRegressor</th>\n",
              "      <td>0.72</td>\n",
              "      <td>0.73</td>\n",
              "      <td>4.58</td>\n",
              "      <td>1.08</td>\n",
              "    </tr>\n",
              "    <tr>\n",
              "      <th>DecisionTreeRegressor</th>\n",
              "      <td>0.71</td>\n",
              "      <td>0.72</td>\n",
              "      <td>4.68</td>\n",
              "      <td>0.01</td>\n",
              "    </tr>\n",
              "    <tr>\n",
              "      <th>HuberRegressor</th>\n",
              "      <td>0.70</td>\n",
              "      <td>0.71</td>\n",
              "      <td>4.79</td>\n",
              "      <td>0.16</td>\n",
              "    </tr>\n",
              "    <tr>\n",
              "      <th>LinearSVR</th>\n",
              "      <td>0.70</td>\n",
              "      <td>0.71</td>\n",
              "      <td>4.79</td>\n",
              "      <td>0.01</td>\n",
              "    </tr>\n",
              "    <tr>\n",
              "      <th>ElasticNetCV</th>\n",
              "      <td>0.69</td>\n",
              "      <td>0.70</td>\n",
              "      <td>4.84</td>\n",
              "      <td>0.07</td>\n",
              "    </tr>\n",
              "    <tr>\n",
              "      <th>RidgeCV</th>\n",
              "      <td>0.69</td>\n",
              "      <td>0.70</td>\n",
              "      <td>4.88</td>\n",
              "      <td>0.01</td>\n",
              "    </tr>\n",
              "    <tr>\n",
              "      <th>LassoCV</th>\n",
              "      <td>0.68</td>\n",
              "      <td>0.69</td>\n",
              "      <td>4.90</td>\n",
              "      <td>0.08</td>\n",
              "    </tr>\n",
              "    <tr>\n",
              "      <th>BayesianRidge</th>\n",
              "      <td>0.68</td>\n",
              "      <td>0.69</td>\n",
              "      <td>4.91</td>\n",
              "      <td>0.02</td>\n",
              "    </tr>\n",
              "    <tr>\n",
              "      <th>Ridge</th>\n",
              "      <td>0.68</td>\n",
              "      <td>0.69</td>\n",
              "      <td>4.91</td>\n",
              "      <td>0.01</td>\n",
              "    </tr>\n",
              "    <tr>\n",
              "      <th>TransformedTargetRegressor</th>\n",
              "      <td>0.68</td>\n",
              "      <td>0.69</td>\n",
              "      <td>4.91</td>\n",
              "      <td>0.01</td>\n",
              "    </tr>\n",
              "    <tr>\n",
              "      <th>LinearRegression</th>\n",
              "      <td>0.68</td>\n",
              "      <td>0.69</td>\n",
              "      <td>4.91</td>\n",
              "      <td>0.01</td>\n",
              "    </tr>\n",
              "    <tr>\n",
              "      <th>LassoLarsIC</th>\n",
              "      <td>0.68</td>\n",
              "      <td>0.69</td>\n",
              "      <td>4.91</td>\n",
              "      <td>0.02</td>\n",
              "    </tr>\n",
              "    <tr>\n",
              "      <th>LassoLarsCV</th>\n",
              "      <td>0.68</td>\n",
              "      <td>0.69</td>\n",
              "      <td>4.91</td>\n",
              "      <td>0.02</td>\n",
              "    </tr>\n",
              "    <tr>\n",
              "      <th>OrthogonalMatchingPursuitCV</th>\n",
              "      <td>0.68</td>\n",
              "      <td>0.69</td>\n",
              "      <td>4.91</td>\n",
              "      <td>0.03</td>\n",
              "    </tr>\n",
              "    <tr>\n",
              "      <th>LarsCV</th>\n",
              "      <td>0.68</td>\n",
              "      <td>0.69</td>\n",
              "      <td>4.91</td>\n",
              "      <td>0.06</td>\n",
              "    </tr>\n",
              "    <tr>\n",
              "      <th>Lars</th>\n",
              "      <td>0.68</td>\n",
              "      <td>0.69</td>\n",
              "      <td>4.91</td>\n",
              "      <td>0.05</td>\n",
              "    </tr>\n",
              "    <tr>\n",
              "      <th>Lasso</th>\n",
              "      <td>0.68</td>\n",
              "      <td>0.69</td>\n",
              "      <td>4.92</td>\n",
              "      <td>0.01</td>\n",
              "    </tr>\n",
              "    <tr>\n",
              "      <th>SGDRegressor</th>\n",
              "      <td>0.68</td>\n",
              "      <td>0.69</td>\n",
              "      <td>4.92</td>\n",
              "      <td>0.01</td>\n",
              "    </tr>\n",
              "    <tr>\n",
              "      <th>ElasticNet</th>\n",
              "      <td>0.67</td>\n",
              "      <td>0.68</td>\n",
              "      <td>4.98</td>\n",
              "      <td>0.01</td>\n",
              "    </tr>\n",
              "    <tr>\n",
              "      <th>GammaRegressor</th>\n",
              "      <td>0.65</td>\n",
              "      <td>0.66</td>\n",
              "      <td>5.12</td>\n",
              "      <td>0.01</td>\n",
              "    </tr>\n",
              "    <tr>\n",
              "      <th>TweedieRegressor</th>\n",
              "      <td>0.65</td>\n",
              "      <td>0.66</td>\n",
              "      <td>5.18</td>\n",
              "      <td>0.01</td>\n",
              "    </tr>\n",
              "    <tr>\n",
              "      <th>GeneralizedLinearRegressor</th>\n",
              "      <td>0.65</td>\n",
              "      <td>0.66</td>\n",
              "      <td>5.18</td>\n",
              "      <td>0.02</td>\n",
              "    </tr>\n",
              "    <tr>\n",
              "      <th>PassiveAggressiveRegressor</th>\n",
              "      <td>0.58</td>\n",
              "      <td>0.59</td>\n",
              "      <td>5.68</td>\n",
              "      <td>0.02</td>\n",
              "    </tr>\n",
              "    <tr>\n",
              "      <th>OrthogonalMatchingPursuit</th>\n",
              "      <td>0.49</td>\n",
              "      <td>0.50</td>\n",
              "      <td>6.23</td>\n",
              "      <td>0.02</td>\n",
              "    </tr>\n",
              "    <tr>\n",
              "      <th>LassoLars</th>\n",
              "      <td>-0.03</td>\n",
              "      <td>-0.00</td>\n",
              "      <td>8.87</td>\n",
              "      <td>0.02</td>\n",
              "    </tr>\n",
              "    <tr>\n",
              "      <th>DummyRegressor</th>\n",
              "      <td>-0.03</td>\n",
              "      <td>-0.00</td>\n",
              "      <td>8.87</td>\n",
              "      <td>0.01</td>\n",
              "    </tr>\n",
              "    <tr>\n",
              "      <th>KernelRidge</th>\n",
              "      <td>-6.20</td>\n",
              "      <td>-5.98</td>\n",
              "      <td>23.38</td>\n",
              "      <td>0.05</td>\n",
              "    </tr>\n",
              "    <tr>\n",
              "      <th>GaussianProcessRegressor</th>\n",
              "      <td>-37522.41</td>\n",
              "      <td>-36407.86</td>\n",
              "      <td>1688.37</td>\n",
              "      <td>0.04</td>\n",
              "    </tr>\n",
              "  </tbody>\n",
              "</table>\n",
              "</div>"
            ],
            "text/plain": [
              "                               Adjusted R-Squared  ...  Time Taken\n",
              "Model                                              ...            \n",
              "ExtraTreesRegressor                          0.84  ...        0.18\n",
              "HistGradientBoostingRegressor                0.84  ...        0.19\n",
              "LGBMRegressor                                0.84  ...        0.07\n",
              "RandomForestRegressor                        0.84  ...        0.21\n",
              "GradientBoostingRegressor                    0.83  ...        0.10\n",
              "BaggingRegressor                             0.83  ...        0.04\n",
              "KNeighborsRegressor                          0.82  ...        0.02\n",
              "PoissonRegressor                             0.79  ...        0.02\n",
              "XGBRegressor                                 0.79  ...        0.17\n",
              "AdaBoostRegressor                            0.78  ...        0.06\n",
              "SVR                                          0.77  ...        0.02\n",
              "NuSVR                                        0.76  ...        0.05\n",
              "RANSACRegressor                              0.76  ...        0.03\n",
              "ExtraTreeRegressor                           0.74  ...        0.02\n",
              "MLPRegressor                                 0.72  ...        1.08\n",
              "DecisionTreeRegressor                        0.71  ...        0.01\n",
              "HuberRegressor                               0.70  ...        0.16\n",
              "LinearSVR                                    0.70  ...        0.01\n",
              "ElasticNetCV                                 0.69  ...        0.07\n",
              "RidgeCV                                      0.69  ...        0.01\n",
              "LassoCV                                      0.68  ...        0.08\n",
              "BayesianRidge                                0.68  ...        0.02\n",
              "Ridge                                        0.68  ...        0.01\n",
              "TransformedTargetRegressor                   0.68  ...        0.01\n",
              "LinearRegression                             0.68  ...        0.01\n",
              "LassoLarsIC                                  0.68  ...        0.02\n",
              "LassoLarsCV                                  0.68  ...        0.02\n",
              "OrthogonalMatchingPursuitCV                  0.68  ...        0.03\n",
              "LarsCV                                       0.68  ...        0.06\n",
              "Lars                                         0.68  ...        0.05\n",
              "Lasso                                        0.68  ...        0.01\n",
              "SGDRegressor                                 0.68  ...        0.01\n",
              "ElasticNet                                   0.67  ...        0.01\n",
              "GammaRegressor                               0.65  ...        0.01\n",
              "TweedieRegressor                             0.65  ...        0.01\n",
              "GeneralizedLinearRegressor                   0.65  ...        0.02\n",
              "PassiveAggressiveRegressor                   0.58  ...        0.02\n",
              "OrthogonalMatchingPursuit                    0.49  ...        0.02\n",
              "LassoLars                                   -0.03  ...        0.02\n",
              "DummyRegressor                              -0.03  ...        0.01\n",
              "KernelRidge                                 -6.20  ...        0.05\n",
              "GaussianProcessRegressor                -37522.41  ...        0.04\n",
              "\n",
              "[42 rows x 4 columns]"
            ]
          },
          "metadata": {
            "tags": []
          },
          "execution_count": 35
        }
      ]
    },
    {
      "cell_type": "markdown",
      "metadata": {
        "id": "Gz9D2zJiEM_M"
      },
      "source": [
        "From above table , we clearly see results of each algorithm performance on data hence decided to build model on Top 5 algorithm"
      ]
    },
    {
      "cell_type": "code",
      "metadata": {
        "colab": {
          "base_uri": "https://localhost:8080/"
        },
        "id": "WJ8MtbHcELl7",
        "outputId": "e89e9114-66f1-4cc0-ca21-ecfc158ceaa2"
      },
      "source": [
        "##XGBoost Regressor\n",
        "parameters = {\n",
        "    'n_estimators':list(range(100,1001,100)),\n",
        "    'learning_rate':[x/100 for x in range(5,100,10)],\n",
        "                    'max_depth':list(range(6,90,10))\n",
        "    }\n",
        "\n",
        "\n",
        "parameters"
      ],
      "execution_count": 36,
      "outputs": [
        {
          "output_type": "execute_result",
          "data": {
            "text/plain": [
              "{'learning_rate': [0.05, 0.15, 0.25, 0.35, 0.45, 0.55, 0.65, 0.75, 0.85, 0.95],\n",
              " 'max_depth': [6, 16, 26, 36, 46, 56, 66, 76, 86],\n",
              " 'n_estimators': [100, 200, 300, 400, 500, 600, 700, 800, 900, 1000]}"
            ]
          },
          "metadata": {
            "tags": []
          },
          "execution_count": 36
        }
      ]
    },
    {
      "cell_type": "code",
      "metadata": {
        "id": "zy8ZOFKIELqd"
      },
      "source": [
        "from sklearn.model_selection import GridSearchCV\n",
        "from xgboost import XGBRegressor\n",
        "gsearch = GridSearchCV(XGBRegressor(random_state=1),\n",
        "                       param_grid = parameters, \n",
        "                       scoring='neg_mean_absolute_error',\n",
        "                       n_jobs=2,cv=5, verbose=1)"
      ],
      "execution_count": 37,
      "outputs": []
    },
    {
      "cell_type": "code",
      "metadata": {
        "colab": {
          "base_uri": "https://localhost:8080/"
        },
        "id": "P8vDXTq4ELvk",
        "outputId": "fed7ac58-5dcd-412c-da1a-a4a169a35732"
      },
      "source": [
        "gsearch.fit(X_train,Y_train)"
      ],
      "execution_count": 38,
      "outputs": [
        {
          "output_type": "stream",
          "text": [
            "Fitting 5 folds for each of 900 candidates, totalling 4500 fits\n"
          ],
          "name": "stdout"
        },
        {
          "output_type": "stream",
          "text": [
            "[Parallel(n_jobs=2)]: Using backend LokyBackend with 2 concurrent workers.\n",
            "[Parallel(n_jobs=2)]: Done  46 tasks      | elapsed:    7.8s\n",
            "[Parallel(n_jobs=2)]: Done 196 tasks      | elapsed:   36.3s\n",
            "[Parallel(n_jobs=2)]: Done 446 tasks      | elapsed:  1.4min\n",
            "[Parallel(n_jobs=2)]: Done 796 tasks      | elapsed:  2.0min\n",
            "[Parallel(n_jobs=2)]: Done 1246 tasks      | elapsed:  2.6min\n",
            "[Parallel(n_jobs=2)]: Done 2178 tasks      | elapsed:  3.6min\n",
            "[Parallel(n_jobs=2)]: Done 3478 tasks      | elapsed:  4.8min\n",
            "[Parallel(n_jobs=2)]: Done 4500 out of 4500 | elapsed:  5.7min finished\n"
          ],
          "name": "stderr"
        },
        {
          "output_type": "execute_result",
          "data": {
            "text/plain": [
              "GridSearchCV(cv=5,\n",
              "             estimator=XGBRegressor(base_score=None, booster=None,\n",
              "                                    colsample_bylevel=None,\n",
              "                                    colsample_bynode=None,\n",
              "                                    colsample_bytree=None, gamma=None,\n",
              "                                    gpu_id=None, importance_type='gain',\n",
              "                                    interaction_constraints=None,\n",
              "                                    learning_rate=None, max_delta_step=None,\n",
              "                                    max_depth=None, min_child_weight=None,\n",
              "                                    missing=nan, monotone_constraints=None,\n",
              "                                    n_estimators=100, n_jobs=...\n",
              "                                    reg_alpha=None, reg_lambda=None,\n",
              "                                    scale_pos_weight=None, subsample=None,\n",
              "                                    tree_method=None, validate_parameters=None,\n",
              "                                    verbosity=None),\n",
              "             n_jobs=2,\n",
              "             param_grid={'learning_rate': [0.05, 0.15, 0.25, 0.35, 0.45, 0.55,\n",
              "                                           0.65, 0.75, 0.85, 0.95],\n",
              "                         'max_depth': [6, 16, 26, 36, 46, 56, 66, 76, 86],\n",
              "                         'n_estimators': [100, 200, 300, 400, 500, 600, 700,\n",
              "                                          800, 900, 1000]},\n",
              "             scoring='neg_mean_absolute_error', verbose=1)"
            ]
          },
          "metadata": {
            "tags": []
          },
          "execution_count": 38
        }
      ]
    },
    {
      "cell_type": "code",
      "metadata": {
        "id": "gMTYP-WtGU_s",
        "colab": {
          "base_uri": "https://localhost:8080/"
        },
        "outputId": "113ce10d-2e28-4833-942a-2d4093ae4dd3"
      },
      "source": [
        "best_n_estimators = gsearch.best_params_.get('n_estimators')\n",
        "best_n_estimators"
      ],
      "execution_count": 39,
      "outputs": [
        {
          "output_type": "execute_result",
          "data": {
            "text/plain": [
              "100"
            ]
          },
          "metadata": {
            "tags": []
          },
          "execution_count": 39
        }
      ]
    },
    {
      "cell_type": "code",
      "metadata": {
        "id": "MvX0HL24qO_S",
        "colab": {
          "base_uri": "https://localhost:8080/"
        },
        "outputId": "082fe3e1-cb7b-4a89-ee18-fc2dfe1e4b4d"
      },
      "source": [
        "best_learning_rate = gsearch.best_params_.get('learning_rate')\n",
        "best_learning_rate"
      ],
      "execution_count": 40,
      "outputs": [
        {
          "output_type": "execute_result",
          "data": {
            "text/plain": [
              "0.05"
            ]
          },
          "metadata": {
            "tags": []
          },
          "execution_count": 40
        }
      ]
    },
    {
      "cell_type": "code",
      "metadata": {
        "id": "XfK0XW6JqPar",
        "colab": {
          "base_uri": "https://localhost:8080/"
        },
        "outputId": "055dbc7d-89e1-4fb7-fe6f-7faf469717d3"
      },
      "source": [
        "best_max_depth = gsearch.best_params_.get('max_depth')\n",
        "best_max_depth"
      ],
      "execution_count": 41,
      "outputs": [
        {
          "output_type": "execute_result",
          "data": {
            "text/plain": [
              "6"
            ]
          },
          "metadata": {
            "tags": []
          },
          "execution_count": 41
        }
      ]
    },
    {
      "cell_type": "code",
      "metadata": {
        "id": "jJc_nqa6qPfD",
        "colab": {
          "base_uri": "https://localhost:8080/"
        },
        "outputId": "1ea2a8a8-0233-4a43-de24-72bbe874edfd"
      },
      "source": [
        "final_model = XGBRegressor(n_estimators=best_n_estimators,random_state=1,learning_rate = best_learning_rate,max_depth=best_max_depth)\n",
        "final_model.fit(X_train,Y_train)"
      ],
      "execution_count": 42,
      "outputs": [
        {
          "output_type": "execute_result",
          "data": {
            "text/plain": [
              "XGBRegressor(base_score=0.5, booster='gbtree', colsample_bylevel=1,\n",
              "             colsample_bynode=1, colsample_bytree=1, gamma=0, gpu_id=-1,\n",
              "             importance_type='gain', interaction_constraints='',\n",
              "             learning_rate=0.05, max_delta_step=0, max_depth=6,\n",
              "             min_child_weight=1, missing=nan, monotone_constraints='()',\n",
              "             n_estimators=100, n_jobs=0, num_parallel_tree=1, random_state=1,\n",
              "             reg_alpha=0, reg_lambda=1, scale_pos_weight=1, subsample=1,\n",
              "             tree_method='exact', validate_parameters=1, verbosity=None)"
            ]
          },
          "metadata": {
            "tags": []
          },
          "execution_count": 42
        }
      ]
    },
    {
      "cell_type": "code",
      "metadata": {
        "id": "3dS1dh-jqcSS"
      },
      "source": [
        "Y_train_pred_XGB =final_model.predict(X_train) ##Predict train result\n",
        "Y_test_pred_XGB =final_model.predict(X_test) ##Predict test result\n"
      ],
      "execution_count": 43,
      "outputs": []
    },
    {
      "cell_type": "code",
      "metadata": {
        "id": "i50NTg4Mqnwc",
        "colab": {
          "base_uri": "https://localhost:8080/"
        },
        "outputId": "963367e3-d2f9-4492-9b1f-01e6007b6b39"
      },
      "source": [
        "# Model Evaluation on train\n",
        "import sklearn.metrics as metrics\n",
        "print('R^2:',metrics.r2_score(Y_train, Y_train_pred_XGB))\n",
        "print('Adjusted R^2:',1 - (1-metrics.r2_score(Y_train, Y_train_pred_XGB))*(len(Y_train)-1)/(len(Y_train)-X_train.shape[1]-1))\n",
        "print('MAE:',metrics.mean_absolute_error(Y_train, Y_train_pred_XGB))\n",
        "print('MSE:',metrics.mean_squared_error(Y_train, Y_train_pred_XGB))\n",
        "print('RMSE:',np.sqrt(metrics.mean_squared_error(Y_train, Y_train_pred_XGB)))"
      ],
      "execution_count": 45,
      "outputs": [
        {
          "output_type": "stream",
          "text": [
            "R^2: 0.9619857636477378\n",
            "Adjusted R^2: 0.9617006568750959\n",
            "MAE: 1.2983151317823052\n",
            "MSE: 3.2654874343502454\n",
            "RMSE: 1.8070659739893962\n"
          ],
          "name": "stdout"
        }
      ]
    },
    {
      "cell_type": "code",
      "metadata": {
        "id": "5Zyq-DKsELz0",
        "colab": {
          "base_uri": "https://localhost:8080/"
        },
        "outputId": "c97f205a-6fd5-42fd-b4ce-7a2db69d1270"
      },
      "source": [
        "# Model Evaluation on test\n",
        "print('R^2:',metrics.r2_score(Y_test, Y_test_pred_XGB))\n",
        "print('Adjusted R^2:',1 - (1-metrics.r2_score(Y_test,Y_test_pred_XGB))*(len(Y_test)-1)/(len(Y_test)-X_test.shape[1]-1))\n",
        "print('MAE:',metrics.mean_absolute_error(Y_test,Y_test_pred_XGB))\n",
        "print('MSE:',metrics.mean_squared_error(Y_test,Y_test_pred_XGB))\n",
        "print('RMSE:',np.sqrt(metrics.mean_squared_error(Y_test,Y_test_pred_XGB)))"
      ],
      "execution_count": 46,
      "outputs": [
        {
          "output_type": "stream",
          "text": [
            "R^2: 0.814112616317162\n",
            "Adjusted R^2: 0.8084221862044221\n",
            "MAE: 2.7261659416497914\n",
            "MSE: 14.553842411858225\n",
            "RMSE: 3.814949857056869\n"
          ],
          "name": "stdout"
        }
      ]
    },
    {
      "cell_type": "code",
      "metadata": {
        "id": "BQ-EW3ukEL4N"
      },
      "source": [
        "### Random Forest\n",
        "\n",
        "from sklearn.ensemble import RandomForestRegressor\n",
        "\n",
        "# Create a Random Forest Regressor\n",
        "reg = RandomForestRegressor()\n",
        "\n",
        "# Train the model using the training sets \n",
        "reg.fit(X_train, Y_train)\n",
        "\n",
        "Y_pred = reg.predict(X_test)"
      ],
      "execution_count": 47,
      "outputs": []
    },
    {
      "cell_type": "code",
      "metadata": {
        "id": "Fv5CWxQCEL76",
        "colab": {
          "base_uri": "https://localhost:8080/"
        },
        "outputId": "07347c9e-a0a6-4ffe-ba70-a9233762914e"
      },
      "source": [
        "from sklearn.metrics import r2_score\n",
        "r2_score(Y_test, Y_pred)"
      ],
      "execution_count": 48,
      "outputs": [
        {
          "output_type": "execute_result",
          "data": {
            "text/plain": [
              "0.839284873415514"
            ]
          },
          "metadata": {
            "tags": []
          },
          "execution_count": 48
        }
      ]
    },
    {
      "cell_type": "code",
      "metadata": {
        "id": "uNO4BPhxEL_Z",
        "colab": {
          "base_uri": "https://localhost:8080/"
        },
        "outputId": "beaeff22-7ba8-49b8-8d34-fd4ec121e26a"
      },
      "source": [
        "## Hyper Parameter Tuning\n",
        "from sklearn.model_selection import RandomizedSearchCV\n",
        "grid_param = {\n",
        "    \"n_estimators\" : [90,100,115,130,150,200],\n",
        "    'criterion': ['mse', 'mae'],\n",
        "    'max_depth' : range(2,20,1),\n",
        "    'min_samples_leaf' : range(1,10,1),\n",
        "    'min_samples_split': range(2,10,1),\n",
        "    'max_features' : ['auto','log2','sqrt']\n",
        "}\n",
        "rf = RandomizedSearchCV(estimator = reg, param_distributions = grid_param, cv = 10, n_jobs=-1, verbose=3)\n",
        "rf.fit(X_train, Y_train)"
      ],
      "execution_count": 50,
      "outputs": [
        {
          "output_type": "stream",
          "text": [
            "Fitting 10 folds for each of 10 candidates, totalling 100 fits\n"
          ],
          "name": "stdout"
        },
        {
          "output_type": "stream",
          "text": [
            "[Parallel(n_jobs=-1)]: Using backend LokyBackend with 2 concurrent workers.\n",
            "[Parallel(n_jobs=-1)]: Done  28 tasks      | elapsed:    8.6s\n",
            "[Parallel(n_jobs=-1)]: Done 100 out of 100 | elapsed:   24.1s finished\n"
          ],
          "name": "stderr"
        },
        {
          "output_type": "execute_result",
          "data": {
            "text/plain": [
              "RandomizedSearchCV(cv=10, estimator=RandomForestRegressor(), n_jobs=-1,\n",
              "                   param_distributions={'criterion': ['mse', 'mae'],\n",
              "                                        'max_depth': range(2, 20),\n",
              "                                        'max_features': ['auto', 'log2',\n",
              "                                                         'sqrt'],\n",
              "                                        'min_samples_leaf': range(1, 10),\n",
              "                                        'min_samples_split': range(2, 10),\n",
              "                                        'n_estimators': [90, 100, 115, 130, 150,\n",
              "                                                         200]},\n",
              "                   verbose=3)"
            ]
          },
          "metadata": {
            "tags": []
          },
          "execution_count": 50
        }
      ]
    },
    {
      "cell_type": "code",
      "metadata": {
        "id": "tF5VhRf-50mG"
      },
      "source": [
        "Y_train_pred_RF = rf.predict(X_train) ##Predict train result\n",
        "Y_test_pred_RF = rf.predict(X_test) ##Predict test result"
      ],
      "execution_count": 51,
      "outputs": []
    },
    {
      "cell_type": "code",
      "metadata": {
        "id": "ZjSYlOoo50ql",
        "colab": {
          "base_uri": "https://localhost:8080/"
        },
        "outputId": "eee3a261-8c0d-4e25-d393-bfa99debceb5"
      },
      "source": [
        "# Model Evaluation on train\n",
        "print('R^2:',metrics.r2_score(Y_train, Y_train_pred_XGB))\n",
        "print('Adjusted R^2:',1 - (1-metrics.r2_score(Y_train, Y_train_pred_XGB))*(len(Y_train)-1)/(len(Y_train)-X_train.shape[1]-1))\n",
        "print('MAE:',metrics.mean_absolute_error(Y_train, Y_train_pred_XGB))\n",
        "print('MSE:',metrics.mean_squared_error(Y_train, Y_train_pred_XGB))\n",
        "print('RMSE:',np.sqrt(metrics.mean_squared_error(Y_train, Y_train_pred_XGB)))"
      ],
      "execution_count": 52,
      "outputs": [
        {
          "output_type": "stream",
          "text": [
            "R^2: 0.9619857636477378\n",
            "Adjusted R^2: 0.9617006568750959\n",
            "MAE: 1.2983151317823052\n",
            "MSE: 3.2654874343502454\n",
            "RMSE: 1.8070659739893962\n"
          ],
          "name": "stdout"
        }
      ]
    },
    {
      "cell_type": "code",
      "metadata": {
        "id": "YOFGW_gv50vX",
        "colab": {
          "base_uri": "https://localhost:8080/"
        },
        "outputId": "72245c1b-6ce3-4e43-a0db-258e6dee8678"
      },
      "source": [
        "# Model Evaluation on test\n",
        "print('R^2:',metrics.r2_score(Y_test, Y_test_pred_XGB))\n",
        "print('Adjusted R^2:',1 - (1-metrics.r2_score(Y_test,Y_test_pred_XGB))*(len(Y_test)-1)/(len(Y_test)-X_test.shape[1]-1))\n",
        "print('MAE:',metrics.mean_absolute_error(Y_test,Y_test_pred_XGB))\n",
        "print('MSE:',metrics.mean_squared_error(Y_test,Y_test_pred_XGB))\n",
        "print('RMSE:',np.sqrt(metrics.mean_squared_error(Y_test,Y_test_pred_XGB)))"
      ],
      "execution_count": 53,
      "outputs": [
        {
          "output_type": "stream",
          "text": [
            "R^2: 0.814112616317162\n",
            "Adjusted R^2: 0.8084221862044221\n",
            "MAE: 2.7261659416497914\n",
            "MSE: 14.553842411858225\n",
            "RMSE: 3.814949857056869\n"
          ],
          "name": "stdout"
        }
      ]
    },
    {
      "cell_type": "code",
      "metadata": {
        "id": "smp7mfnN50zX",
        "colab": {
          "base_uri": "https://localhost:8080/",
          "height": 265
        },
        "outputId": "79746c4c-1fbc-49e5-9e2e-6fe230f3ce8c"
      },
      "source": [
        "import numpy as np\n",
        "\n",
        "# red dashes, blue squares and green triangles\n",
        "plt.plot( X_test, 'r--', Y_test_pred_RF, 'bs')\n",
        "plt.show()"
      ],
      "execution_count": 54,
      "outputs": [
        {
          "output_type": "display_data",
          "data": {
            "image/png": "[encoded data removed]",
            "text/plain": [
              "<Figure size 432x288 with 1 Axes>"
            ]
          },
          "metadata": {
            "tags": [],
            "needs_background": "light"
          }
        }
      ]
    },
    {
      "cell_type": "code",
      "metadata": {
        "id": "JUgJlS0d503T"
      },
      "source": [
        "# Creating scaled set to be used in model to improve our results\n",
        "from sklearn.preprocessing import StandardScaler\n",
        "sc = StandardScaler()\n",
        "X_train = sc.fit_transform(X_train)\n",
        "X_test = sc.transform(X_test)"
      ],
      "execution_count": 55,
      "outputs": []
    },
    {
      "cell_type": "code",
      "metadata": {
        "id": "gr1hQlz4AZGz"
      },
      "source": [
        "# Import SVM Regressor\n",
        "from sklearn import svm\n",
        "\n",
        "# Create a SVM Regressor\n",
        "SR = svm.SVR()"
      ],
      "execution_count": 56,
      "outputs": []
    },
    {
      "cell_type": "code",
      "metadata": {
        "id": "3AzJ3qAh506p",
        "colab": {
          "base_uri": "https://localhost:8080/"
        },
        "outputId": "e715e27d-fa4b-4a6b-ae8a-7392b3378df5"
      },
      "source": [
        "parameters = {'C': [0.1, 1, 10, 100, 1000], \n",
        "              'gamma': [1, 0.1, 0.01, 0.001, 0.0001],\n",
        "              'kernel': ['rbf']} \n",
        "  \n",
        "grid = GridSearchCV(SR, param_grid = parameters, \n",
        "                       scoring='neg_mean_absolute_error',\n",
        "                       n_jobs=2,cv=5, verbose=1)\n",
        "  \n",
        "# fitting the model for grid search\n",
        "grid.fit(X_train, Y_train)"
      ],
      "execution_count": 60,
      "outputs": [
        {
          "output_type": "stream",
          "text": [
            "Fitting 5 folds for each of 25 candidates, totalling 125 fits\n"
          ],
          "name": "stdout"
        },
        {
          "output_type": "stream",
          "text": [
            "[Parallel(n_jobs=2)]: Using backend LokyBackend with 2 concurrent workers.\n",
            "[Parallel(n_jobs=2)]: Done 125 out of 125 | elapsed:    3.1s finished\n"
          ],
          "name": "stderr"
        },
        {
          "output_type": "execute_result",
          "data": {
            "text/plain": [
              "GridSearchCV(cv=5, estimator=SVR(), n_jobs=2,\n",
              "             param_grid={'C': [0.1, 1, 10, 100, 1000],\n",
              "                         'gamma': [1, 0.1, 0.01, 0.001, 0.0001],\n",
              "                         'kernel': ['rbf']},\n",
              "             scoring='neg_mean_absolute_error', verbose=1)"
            ]
          },
          "metadata": {
            "tags": []
          },
          "execution_count": 60
        }
      ]
    },
    {
      "cell_type": "code",
      "metadata": {
        "id": "g2tCwdHzOtp4"
      },
      "source": [
        "Y_train_pred_SVR = grid.predict(X_train) ##Predict train result\n",
        "Y_test_pred_SVR = grid.predict(X_test) ##Predict test result"
      ],
      "execution_count": 61,
      "outputs": []
    },
    {
      "cell_type": "code",
      "metadata": {
        "id": "4XAkwpz-jwoz",
        "colab": {
          "base_uri": "https://localhost:8080/"
        },
        "outputId": "960f1705-fc79-4c95-a787-7dabfeb9cc72"
      },
      "source": [
        "print('R^2:',metrics.r2_score(Y_train, Y_train_pred_SVR))\n",
        "print('Adjusted R^2:',1 - (1-metrics.r2_score(Y_train, Y_train_pred_SVR))*(len(Y_train)-1)/(len(Y_train)-X_train.shape[1]-1))\n",
        "print('MAE:',metrics.mean_absolute_error(Y_train, Y_train_pred_SVR))\n",
        "print('MSE:',metrics.mean_squared_error(Y_train, Y_train_pred_SVR))\n",
        "print('RMSE:',np.sqrt(metrics.mean_squared_error(Y_train, Y_train_pred_SVR)))\n"
      ],
      "execution_count": 62,
      "outputs": [
        {
          "output_type": "stream",
          "text": [
            "R^2: 0.7963214898268441\n",
            "Adjusted R^2: 0.7947939010005455\n",
            "MAE: 2.537363840880468\n",
            "MSE: 17.49632978167243\n",
            "RMSE: 4.182861434672732\n"
          ],
          "name": "stdout"
        }
      ]
    },
    {
      "cell_type": "code",
      "metadata": {
        "id": "4K2GQQJsKmAo",
        "colab": {
          "base_uri": "https://localhost:8080/"
        },
        "outputId": "115c26d4-2750-4352-c64d-73a620931778"
      },
      "source": [
        "### Model Evaluation on test\n",
        "print('R^2:',metrics.r2_score(Y_test, Y_test_pred_SVR))\n",
        "print('Adjusted R^2:',1 - (1-metrics.r2_score(Y_test,Y_test_pred_SVR))*(len(Y_test)-1)/(len(Y_test)-X_test.shape[1]-1))\n",
        "print('MAE:',metrics.mean_absolute_error(Y_test,Y_test_pred_SVR))\n",
        "print('MSE:',metrics.mean_squared_error(Y_test,Y_test_pred_SVR))\n",
        "print('RMSE:',np.sqrt(metrics.mean_squared_error(Y_test,Y_test_pred_SVR)))"
      ],
      "execution_count": 63,
      "outputs": [
        {
          "output_type": "stream",
          "text": [
            "R^2: 0.8465686036399884\n",
            "Adjusted R^2: 0.8418717241595799\n",
            "MAE: 2.550208106493008\n",
            "MSE: 12.012737601734985\n",
            "RMSE: 3.4659396419636312\n"
          ],
          "name": "stdout"
        }
      ]
    },
    {
      "cell_type": "code",
      "metadata": {
        "id": "GnWNDESmKmG0",
        "colab": {
          "base_uri": "https://localhost:8080/"
        },
        "outputId": "fe15f1fc-074c-40bf-f1f9-1a87443ae7b5"
      },
      "source": [
        "from sklearn.model_selection import GridSearchCV\n",
        "from sklearn import neighbors\n",
        "from sklearn.neighbors import KNeighborsRegressor\n",
        "\n",
        "knn = neighbors.KNeighborsRegressor()\n",
        "\n",
        "model_knn = GridSearchCV(knn, params, cv=5)\n",
        "model_knn.fit(X_train,Y_train)\n",
        "model_knn.best_params_"
      ],
      "execution_count": 67,
      "outputs": [
        {
          "output_type": "execute_result",
          "data": {
            "text/plain": [
              "{'n_neighbors': 9}"
            ]
          },
          "metadata": {
            "tags": []
          },
          "execution_count": 67
        }
      ]
    },
    {
      "cell_type": "code",
      "metadata": {
        "id": "MBWXWt4oKmLd"
      },
      "source": [
        "Y_train_pred_knn = model_knn.predict(X_train) ##Predict train result\n",
        "Y_test_pred_knn = model_knn.predict(X_test) ##Predict test result"
      ],
      "execution_count": 68,
      "outputs": []
    },
    {
      "cell_type": "code",
      "metadata": {
        "id": "XwqcHWzdKmQ1",
        "colab": {
          "base_uri": "https://localhost:8080/"
        },
        "outputId": "6ef9745b-da77-436c-c24d-53fa3946ccde"
      },
      "source": [
        "print('R^2:',metrics.r2_score(Y_train, Y_train_pred_knn))\n",
        "print('Adjusted R^2:',1 - (1-metrics.r2_score(Y_train, Y_train_pred_knn))*(len(Y_train)-1)/(len(Y_train)-X_train.shape[1]-1))\n",
        "print('MAE:',metrics.mean_absolute_error(Y_train, Y_train_pred_knn))\n",
        "print('MSE:',metrics.mean_squared_error(Y_train, Y_train_pred_knn))\n",
        "print('RMSE:',np.sqrt(metrics.mean_squared_error(Y_train, Y_train_pred_knn)))\n"
      ],
      "execution_count": 69,
      "outputs": [
        {
          "output_type": "stream",
          "text": [
            "R^2: 0.8161811516444499\n",
            "Adjusted R^2: 0.8148025102817833\n",
            "MAE: 2.5211496149614963\n",
            "MSE: 15.79035111844518\n",
            "RMSE: 3.9737074777146315\n"
          ],
          "name": "stdout"
        }
      ]
    },
    {
      "cell_type": "code",
      "metadata": {
        "id": "6Tp7P1zkKmW6",
        "colab": {
          "base_uri": "https://localhost:8080/"
        },
        "outputId": "aa9dbcb9-8a97-43ba-e6bc-fb807150123c"
      },
      "source": [
        "### Model Evaluation on test\n",
        "print('R^2:',metrics.r2_score(Y_test, Y_test_pred_knn))\n",
        "print('Adjusted R^2:',1 - (1-metrics.r2_score(Y_test,Y_test_pred_knn))*(len(Y_test)-1)/(len(Y_test)-X_test.shape[1]-1))\n",
        "print('MAE:',metrics.mean_absolute_error(Y_test,Y_test_pred_knn))\n",
        "print('MSE:',metrics.mean_squared_error(Y_test,Y_test_pred_knn))\n",
        "print('RMSE:',np.sqrt(metrics.mean_squared_error(Y_test,Y_test_pred_knn)))"
      ],
      "execution_count": 70,
      "outputs": [
        {
          "output_type": "stream",
          "text": [
            "R^2: 0.8185005807978785\n",
            "Adjusted R^2: 0.8129444761284257\n",
            "MAE: 2.780065359477124\n",
            "MSE: 14.210291696925683\n",
            "RMSE: 3.7696540553379276\n"
          ],
          "name": "stdout"
        }
      ]
    },
    {
      "cell_type": "code",
      "metadata": {
        "colab": {
          "base_uri": "https://localhost:8080/"
        },
        "id": "4KfMT1gax0pj",
        "outputId": "3fec918b-e9f9-448e-b903-754ba879f5fa"
      },
      "source": [
        "from sklearn.linear_model import LinearRegression\n",
        "model = LinearRegression()\n",
        "model.fit(X_train,Y_train)\n"
      ],
      "execution_count": 71,
      "outputs": [
        {
          "output_type": "execute_result",
          "data": {
            "text/plain": [
              "LinearRegression()"
            ]
          },
          "metadata": {
            "tags": []
          },
          "execution_count": 71
        }
      ]
    },
    {
      "cell_type": "code",
      "metadata": {
        "colab": {
          "base_uri": "https://localhost:8080/",
          "height": 305
        },
        "id": "cUWm3Cr4x0po",
        "outputId": "b871f9cc-f531-4392-f55d-ba16ce284267"
      },
      "source": [
        "Y_pred = model.predict(X_test)\n",
        "plt.scatter(Y_test, Y_pred)\n",
        "plt.xlabel(\"Prices: $Y_i$\")\n",
        "plt.ylabel(\"Predicted prices: $\\hat{Y}_i$\")\n",
        "plt.title(\"Prices vs Predicted prices: $Y_i$ vs $\\hat{Y}_i$\")\n",
        "plt.show()"
      ],
      "execution_count": 72,
      "outputs": [
        {
          "output_type": "display_data",
          "data": {
            "image/png": "[encoded data removed]",
            "text/plain": [
              "<Figure size 432x288 with 1 Axes>"
            ]
          },
          "metadata": {
            "tags": [],
            "needs_background": "light"
          }
        }
      ]
    },
    {
      "cell_type": "code",
      "metadata": {
        "colab": {
          "base_uri": "https://localhost:8080/"
        },
        "id": "qa9vSbYcx0pr",
        "outputId": "f6f24d76-de9c-401a-a3c8-4e6a27693ba2"
      },
      "source": [
        "from sklearn.metrics import r2_score\n",
        "r2_score(Y_test, Y_pred)"
      ],
      "execution_count": 73,
      "outputs": [
        {
          "output_type": "execute_result",
          "data": {
            "text/plain": [
              "0.6915878280744175"
            ]
          },
          "metadata": {
            "tags": []
          },
          "execution_count": 73
        }
      ]
    },
    {
      "cell_type": "code",
      "metadata": {
        "colab": {
          "base_uri": "https://localhost:8080/",
          "height": 265
        },
        "id": "NzGJYgmRx0pu",
        "outputId": "e9c6a12f-2a0d-4994-a68e-19a6f829e49f"
      },
      "source": [
        "delta_y = Y_test - Y_pred;\n",
        "\n",
        "import seaborn as sns;\n",
        "import numpy as np;\n",
        "sns.set_style('whitegrid')\n",
        "sns.kdeplot(np.array(delta_y), bw=0.5)\n",
        "plt.show()"
      ],
      "execution_count": 74,
      "outputs": [
        {
          "output_type": "display_data",
          "data": {
            "image/png": "[encoded data removed]",
            "text/plain": [
              "<Figure size 432x288 with 1 Axes>"
            ]
          },
          "metadata": {
            "tags": []
          }
        }
      ]
    },
    {
      "cell_type": "code",
      "metadata": {
        "colab": {
          "base_uri": "https://localhost:8080/",
          "height": 265
        },
        "id": "GmCuSknPx0py",
        "outputId": "14aecf6a-685f-4d1d-fea9-cf6f0f0372ce"
      },
      "source": [
        "sns.set_style('whitegrid')\n",
        "sns.kdeplot(np.array(Y_pred), bw=0.5)\n",
        "plt.show()"
      ],
      "execution_count": 75,
      "outputs": [
        {
          "output_type": "display_data",
          "data": {
            "image/png": "[encoded data removed]",
            "text/plain": [
              "<Figure size 432x288 with 1 Axes>"
            ]
          },
          "metadata": {
            "tags": []
          }
        }
      ]
    },
    {
      "cell_type": "code",
      "metadata": {
        "id": "rEm258CVM_tk",
        "colab": {
          "base_uri": "https://localhost:8080/",
          "height": 305
        },
        "outputId": "8853a9f2-c993-4d4c-dc66-eac46339f898"
      },
      "source": [
        "# code source:https://medium.com/@haydar_ai/learning-data-science-day-9-linear-regression-on-boston-housing-dataset-cd62a80775ef\n",
        "from sklearn.linear_model import LinearRegression\n",
        "\n",
        "lm = LinearRegression()\n",
        "lm.fit(X_train, Y_train)\n",
        "\n",
        "Y_pred = lm.predict(X_test)\n",
        "\n",
        "plt.scatter(Y_test, Y_pred)\n",
        "plt.xlabel(\"Prices: $Y_i$\")\n",
        "plt.ylabel(\"Predicted prices: $\\hat{Y}_i$\")\n",
        "plt.title(\"Prices vs Predicted prices: $Y_i$ vs $\\hat{Y}_i$\")\n",
        "plt.show()"
      ],
      "execution_count": 78,
      "outputs": [
        {
          "output_type": "display_data",
          "data": {
            "image/png": "[encoded data removed]",
            "text/plain": [
              "<Figure size 432x288 with 1 Axes>"
            ]
          },
          "metadata": {
            "tags": []
          }
        }
      ]
    },
    {
      "cell_type": "code",
      "metadata": {
        "id": "hvUQkFdYM_ts",
        "colab": {
          "base_uri": "https://localhost:8080/",
          "height": 265
        },
        "outputId": "fb18bd85-9f9d-4c44-e0c6-a399e0022204"
      },
      "source": [
        "delta_y = Y_test - Y_pred;\n",
        "\n",
        "import seaborn as sns;\n",
        "import numpy as np;\n",
        "sns.set_style('whitegrid')\n",
        "sns.kdeplot(np.array(delta_y), bw=0.5)\n",
        "plt.show()\n"
      ],
      "execution_count": 79,
      "outputs": [
        {
          "output_type": "display_data",
          "data": {
            "image/png": "[encoded data removed]",
            "text/plain": [
              "<Figure size 432x288 with 1 Axes>"
            ]
          },
          "metadata": {
            "tags": []
          }
        }
      ]
    },
    {
      "cell_type": "code",
      "metadata": {
        "id": "ocLGPfAOM_ty",
        "colab": {
          "base_uri": "https://localhost:8080/",
          "height": 265
        },
        "outputId": "777cdaf2-06a7-4c61-a54d-82168ff295f0"
      },
      "source": [
        "sns.set_style('whitegrid')\n",
        "sns.kdeplot(np.array(Y_pred), bw=0.5)\n",
        "plt.show()"
      ],
      "execution_count": 80,
      "outputs": [
        {
          "output_type": "display_data",
          "data": {
            "image/png": "[encoded data removed]",
            "text/plain": [
              "<Figure size 432x288 with 1 Axes>"
            ]
          },
          "metadata": {
            "tags": []
          }
        }
      ]
    },
    {
      "cell_type": "markdown",
      "metadata": {
        "id": "06BYMKOHvrC8"
      },
      "source": [
        "From Above we can see clearly XGBoost performance is way better than others"
      ]
    }
  ]
}